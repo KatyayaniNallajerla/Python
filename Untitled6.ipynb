{
  "nbformat": 4,
  "nbformat_minor": 0,
  "metadata": {
    "colab": {
      "provenance": [],
      "authorship_tag": "ABX9TyOrVqAApa4yhUAXwfdZ5YKv",
      "include_colab_link": true
    },
    "kernelspec": {
      "name": "python3",
      "display_name": "Python 3"
    },
    "language_info": {
      "name": "python"
    }
  },
  "cells": [
    {
      "cell_type": "markdown",
      "metadata": {
        "id": "view-in-github",
        "colab_type": "text"
      },
      "source": [
        "<a href=\"https://colab.research.google.com/github/KatyayaniNallajerla/Python/blob/main/Untitled6.ipynb\" target=\"_parent\"><img src=\"https://colab.research.google.com/assets/colab-badge.svg\" alt=\"Open In Colab\"/></a>"
      ]
    },
    {
      "cell_type": "markdown",
      "source": [
        "1.\n",
        "create a numpy array with numpy.array module with data type integer and float"
      ],
      "metadata": {
        "id": "aOrT_ZKYoHIo"
      }
    },
    {
      "cell_type": "code",
      "source": [
        "import numpy as np\n",
        "\n",
        "# Creating a NumPy array with integer values\n",
        "a1 = np.array([1, 2, 3, 4], dtype=int)\n",
        "\n",
        "# Creating a NumPy array with float values\n",
        "a2 = np.array([1.0, 2.5, 3.7, 4.2], dtype=float)\n",
        "\n",
        "# Printing the arrays\n",
        "print(\"Integer Array:\", a1)\n",
        "print(\"Float Array:\", a2)\n",
        "a3=np.array([1.0,2,3.4,5.6,9],dtype=int)\n",
        "print(\"Integer Array:\", a3) #forcing data type to be integer\n"
      ],
      "metadata": {
        "colab": {
          "base_uri": "https://localhost:8080/"
        },
        "id": "WFQjd1LwoMfb",
        "outputId": "0a11e934-81e6-49ba-ca2e-d40954762d1a"
      },
      "execution_count": null,
      "outputs": [
        {
          "output_type": "stream",
          "name": "stdout",
          "text": [
            "Integer Array: [1 2 3 4]\n",
            "Float Array: [1.  2.5 3.7 4.2]\n",
            "Integer Array: [1 2 3 5 9]\n"
          ]
        }
      ]
    },
    {
      "cell_type": "markdown",
      "source": [],
      "metadata": {
        "id": "6GOUYi9Ir_B3"
      }
    },
    {
      "cell_type": "markdown",
      "source": [
        "2. Create numpy arrays that have zero, one, two, three, Four dimensions respectively.\n",
        "Also, print the shape and dimensions of the numpy arrays created above.\n"
      ],
      "metadata": {
        "id": "uSSKRcmzniTB"
      }
    },
    {
      "cell_type": "code",
      "execution_count": null,
      "metadata": {
        "colab": {
          "base_uri": "https://localhost:8080/"
        },
        "id": "DG50YRROkHhm",
        "outputId": "6d5229a8-fb8d-4749-e3a1-ebe0e2ad0806"
      },
      "outputs": [
        {
          "output_type": "stream",
          "name": "stdout",
          "text": [
            "0-dimensional Array:\n",
            "42\n",
            "Shape: ()\n",
            "Dimensions: 0\n",
            "\n",
            "1-dimensional Array:\n",
            "[1 2 3 4]\n",
            "Shape: (4,)\n",
            "Dimensions: 1\n",
            "\n",
            "2-dimensional Array:\n",
            "[[1 2]\n",
            " [3 4]]\n",
            "Shape: (2, 2)\n",
            "Dimensions: 2\n",
            "\n",
            "3-dimensional Array:\n",
            "[[[1 2]\n",
            "  [3 4]]\n",
            "\n",
            " [[5 6]\n",
            "  [7 8]]]\n",
            "Shape: (2, 2, 2)\n",
            "Dimensions: 3\n",
            "\n",
            "4-dimensional Array:\n",
            "[[[[1 2]\n",
            "   [3 4]]\n",
            "\n",
            "  [[5 6]\n",
            "   [7 8]]]]\n",
            "Shape: (1, 2, 2, 2)\n",
            "Dimensions: 4\n",
            "\n"
          ]
        }
      ],
      "source": [
        "import numpy as np\n",
        "\n",
        "# Creating arrays with different dimensions\n",
        "a0 = np.array(42)  # 0-dimensional array\n",
        "a1 = np.array([1, 2, 3, 4])  # 1-dimensional array\n",
        "a2 = np.array([[1, 2], [3, 4]])  # 2-dimensional array\n",
        "a3 = np.array([[[1, 2], [3, 4]], [[5, 6], [7, 8]]])  # 3-dimensional array\n",
        "a4 = np.array([[[[1, 2], [3, 4]], [[5, 6], [7, 8]]]])  # 4-dimensional array\n",
        "\n",
        "# Printing the arrays\n",
        "print(\"0-dimensional Array:\")\n",
        "print(a0)\n",
        "print(\"Shape:\", a0.shape)\n",
        "print(\"Dimensions:\", a0.ndim)\n",
        "print()\n",
        "\n",
        "print(\"1-dimensional Array:\")\n",
        "print(a1)\n",
        "print(\"Shape:\", a1.shape)\n",
        "print(\"Dimensions:\", a1.ndim)\n",
        "print()\n",
        "\n",
        "print(\"2-dimensional Array:\")\n",
        "print(a2)\n",
        "print(\"Shape:\", a2.shape)\n",
        "print(\"Dimensions:\", a2.ndim)\n",
        "print()\n",
        "\n",
        "print(\"3-dimensional Array:\")\n",
        "print(a3)\n",
        "print(\"Shape:\", a3.shape)\n",
        "print(\"Dimensions:\", a3.ndim)\n",
        "print()\n",
        "\n",
        "print(\"4-dimensional Array:\")\n",
        "print(a4)\n",
        "print(\"Shape:\", a4.shape)\n",
        "print(\"Dimensions:\", a4.ndim)\n",
        "print()"
      ]
    },
    {
      "cell_type": "markdown",
      "source": [
        "3. Create a 2x3, 3x3, and 4x4 identity matrix using numpy\n"
      ],
      "metadata": {
        "id": "CH3Dgc202JSk"
      }
    },
    {
      "cell_type": "code",
      "source": [
        "import numpy as np\n",
        "\n",
        "# Creating 2x2 identity matrix\n",
        "i_2x2 = np.eye(2)\n",
        "\n",
        "# Creating 3x3 identity matrix\n",
        "i_3x3 = np.eye(3)\n",
        "\n",
        "# Creating 4x4 identity matrix\n",
        "i_4x4 = np.eye(4)\n",
        "\n",
        "# Printing the identity matrices\n",
        "print(\"2x2 Identity Matrix:\")\n",
        "print(i_2x2)\n",
        "print()\n",
        "\n",
        "print(\"3x3 Identity Matrix:\")\n",
        "print(i_3x3)\n",
        "print()\n",
        "\n",
        "print(\"4x4 Identity Matrix:\")\n",
        "print(i_4x4)\n",
        "print()\n"
      ],
      "metadata": {
        "colab": {
          "base_uri": "https://localhost:8080/"
        },
        "id": "FQoyxW_TsCwP",
        "outputId": "7fa51982-977f-4d29-d000-f51e5c1db952"
      },
      "execution_count": null,
      "outputs": [
        {
          "output_type": "stream",
          "name": "stdout",
          "text": [
            "2x2 Identity Matrix:\n",
            "[[1. 0.]\n",
            " [0. 1.]]\n",
            "\n",
            "3x3 Identity Matrix:\n",
            "[[1. 0. 0.]\n",
            " [0. 1. 0.]\n",
            " [0. 0. 1.]]\n",
            "\n",
            "4x4 Identity Matrix:\n",
            "[[1. 0. 0. 0.]\n",
            " [0. 1. 0. 0.]\n",
            " [0. 0. 1. 0.]\n",
            " [0. 0. 0. 1.]]\n",
            "\n"
          ]
        }
      ]
    },
    {
      "cell_type": "code",
      "source": [
        "a1=np.identity(2)\n",
        "print(a1)\n",
        "a2=np.identity(3)\n",
        "print(a2)\n",
        "a3=np.identity(4)\n",
        "print(a3)"
      ],
      "metadata": {
        "colab": {
          "base_uri": "https://localhost:8080/"
        },
        "id": "jxhYwc4ys79P",
        "outputId": "962a517f-0d25-415f-ceef-bafa3fe615b7"
      },
      "execution_count": null,
      "outputs": [
        {
          "output_type": "stream",
          "name": "stdout",
          "text": [
            "[[1. 0.]\n",
            " [0. 1.]]\n",
            "[[1. 0. 0.]\n",
            " [0. 1. 0.]\n",
            " [0. 0. 1.]]\n",
            "[[1. 0. 0. 0.]\n",
            " [0. 1. 0. 0.]\n",
            " [0. 0. 1. 0.]\n",
            " [0. 0. 0. 1.]]\n"
          ]
        }
      ]
    },
    {
      "cell_type": "markdown",
      "source": [
        "4. Create a numpy array with shape 2x5 that has all the elements as zero.\n"
      ],
      "metadata": {
        "id": "imlPwdmItvId"
      }
    },
    {
      "cell_type": "code",
      "source": [
        "import numpy as np\n",
        "\n",
        "# Creating a 2x5 array with all elements as zero\n",
        "a0 = np.zeros((2, 5))\n",
        "\n",
        "# Printing the array\n",
        "print(\"2x5 Array with Zeros:\")\n",
        "print(a0)\n"
      ],
      "metadata": {
        "colab": {
          "base_uri": "https://localhost:8080/"
        },
        "id": "R_Nngpb4tvZg",
        "outputId": "19a5277b-512b-4fd2-d061-021861b689b4"
      },
      "execution_count": null,
      "outputs": [
        {
          "output_type": "stream",
          "name": "stdout",
          "text": [
            "2x5 Array with Zeros:\n",
            "[[0. 0. 0. 0. 0.]\n",
            " [0. 0. 0. 0. 0.]]\n"
          ]
        }
      ]
    },
    {
      "cell_type": "markdown",
      "source": [
        "5. Create a numpy array that has the shape 3x5 and all the elements are 5.\n"
      ],
      "metadata": {
        "id": "8IjTxyY8uSBh"
      }
    },
    {
      "cell_type": "code",
      "source": [
        "import numpy as np\n",
        "\n",
        "# Creating a 3x5 array with all elements as 5\n",
        "a1 = np.full((3, 5), 5)\n",
        "\n",
        "# Printing the array\n",
        "print(\"3x5 Array with All Elements as 5:\")\n",
        "print(a1)\n",
        "a=np.ones((3,5),dtype=int)*5\n",
        "print(a)\n"
      ],
      "metadata": {
        "colab": {
          "base_uri": "https://localhost:8080/"
        },
        "id": "eXJWLlwHuT1O",
        "outputId": "55441abc-01d2-43d3-9aeb-9a9b2ab636d6"
      },
      "execution_count": null,
      "outputs": [
        {
          "output_type": "stream",
          "name": "stdout",
          "text": [
            "3x5 Array with All Elements as 5:\n",
            "[[5 5 5 5 5]\n",
            " [5 5 5 5 5]\n",
            " [5 5 5 5 5]]\n",
            "[[5 5 5 5 5]\n",
            " [5 5 5 5 5]\n",
            " [5 5 5 5 5]]\n"
          ]
        }
      ]
    },
    {
      "cell_type": "markdown",
      "source": [
        "6. Create a numpy array with random integers in the range 0-100, and the sample size\n",
        "should be 25.\n"
      ],
      "metadata": {
        "id": "dLXf_-vmw8RH"
      }
    },
    {
      "cell_type": "code",
      "source": [
        "import numpy as np\n",
        "\n",
        "# Creating a 1D array with 25 random integers in the range 0 to 100\n",
        "randarr = np.random.randint(0, 100,size=25)\n",
        "\n",
        "# Printing the array\n",
        "print(\"Random Array (Size: 25):\")\n",
        "print(randarr)\n"
      ],
      "metadata": {
        "colab": {
          "base_uri": "https://localhost:8080/"
        },
        "id": "0BoLNNgrw8gg",
        "outputId": "93c1e190-1ca5-4d0c-9412-7dcc394e3f73"
      },
      "execution_count": null,
      "outputs": [
        {
          "output_type": "stream",
          "name": "stdout",
          "text": [
            "Random 1D Array (Size: 25):\n",
            "[52 60 51 34 57 19  3 87 93 85  6 35 69  8 17 33 14 55 85 23 49 67 44 19\n",
            " 73]\n"
          ]
        }
      ]
    },
    {
      "cell_type": "markdown",
      "source": [
        "\n",
        "7. Create a numpy array with a shape 3x3 that has all elements as 1.\n"
      ],
      "metadata": {
        "id": "Cq-JPlSkzH26"
      }
    },
    {
      "cell_type": "code",
      "source": [
        "import numpy as np\n",
        "\n",
        "# Creating a 3x3 array with all elements as 1\n",
        "a1 = np.ones((3, 3), dtype=int)\n",
        "\n",
        "# Printing the array\n",
        "print(\"3x3 Array with All Elements as 1:\")\n",
        "print(a1)\n",
        "a1=np.full((3,3),1)\n",
        "print(a1)\n"
      ],
      "metadata": {
        "colab": {
          "base_uri": "https://localhost:8080/"
        },
        "id": "CHwuvP8xzIF3",
        "outputId": "29ebe4ad-d101-421f-9179-bc2f37572582"
      },
      "execution_count": null,
      "outputs": [
        {
          "output_type": "stream",
          "name": "stdout",
          "text": [
            "3x3 Array with All Elements as 1:\n",
            "[[1 1 1]\n",
            " [1 1 1]\n",
            " [1 1 1]]\n",
            "[[1 1 1]\n",
            " [1 1 1]\n",
            " [1 1 1]]\n"
          ]
        }
      ]
    },
    {
      "cell_type": "markdown",
      "source": [
        "8. Create a numpy array in the shape 2x3 with random integers in the range 0-100.\n",
        "Reshape the array in the shape 3x2 and print the updated shape of the resultant array\n"
      ],
      "metadata": {
        "id": "tMRuY52u2X57"
      }
    },
    {
      "cell_type": "code",
      "source": [
        "import numpy as np\n",
        "\n",
        "# Creating a 2x3 array with random integers in the range 0 to 100\n",
        "a = np.random.randint(0, 101, size=(2, 3))\n",
        "\n",
        "# Printing the original array\n",
        "print(\"Original Array (2x3):\")\n",
        "print(a)\n",
        "\n",
        "# Reshaping the array to 3x2\n",
        "rearr = a.reshape((3, 2))\n",
        "\n",
        "# Printing the reshaped array\n",
        "print(\"Reshaped Array (3x2):\")\n",
        "print(rearr)\n",
        "\n",
        "# Printing the updated shape\n",
        "print(\"Updated Shape:\", rearr.shape)\n"
      ],
      "metadata": {
        "colab": {
          "base_uri": "https://localhost:8080/"
        },
        "id": "97Ctlxgx2YQ9",
        "outputId": "d6066e5f-10fe-45d4-a3d7-67b83e6e619b"
      },
      "execution_count": null,
      "outputs": [
        {
          "output_type": "stream",
          "name": "stdout",
          "text": [
            "Original Array (2x3):\n",
            "[[65 60 23]\n",
            " [28 32 64]]\n",
            "Reshaped Array (3x2):\n",
            "[[65 60]\n",
            " [23 28]\n",
            " [32 64]]\n",
            "Updated Shape: (3, 2)\n"
          ]
        }
      ]
    },
    {
      "cell_type": "markdown",
      "source": [
        "9. Create a random array, with the range 0-1000, with a size 50 and step 2. Perform the\n",
        "following operations on the same.\n",
        "a. Print the first ten elements of the array.\n",
        "b. Print the last ten elements of the array\n",
        "c. Print the elements from the indexes 10-25\n",
        "d. Print the element at the index 22\n",
        "e. Print the array using negative indexing.\n",
        "f. Print the last ten elements of the array, using negative indexing.\n"
      ],
      "metadata": {
        "id": "DWlLCjRV69G-"
      }
    },
    {
      "cell_type": "code",
      "source": [
        "a=np.random.randint(0,1000,size=50)\n",
        "print(a)\n",
        "# a. Print the first ten elements of the array\n",
        "print(\"a. First Ten Elements:\")\n",
        "print(a[:10])\n",
        "# b. Print the last ten elements of the array\n",
        "print(\"b. Last Ten Elements:\")\n",
        "print(a[-10:])\n",
        "# c. Print the elements from the indexes 10-25\n",
        "print(\"c. Elements from Index 10 to 25:\")\n",
        "print(a[10:26])\n",
        "# d. Print the element at the index 22\n",
        "print(\"d. Element at Index 22:\", a[22])\n",
        "# e. Print the array using negative indexing\n",
        "print(\"e. Array Using Negative Indexing:\")\n",
        "print(a[::-1])\n",
        "# f. Print the last ten elements of the array, using negative indexing\n",
        "print(\"f. Last Ten Elements Using Negative Indexing:\")\n",
        "print(a[-10:])\n"
      ],
      "metadata": {
        "colab": {
          "base_uri": "https://localhost:8080/"
        },
        "id": "ynfYqu-t69dy",
        "outputId": "0935dca5-a8e1-4070-b5a2-b48441a81050"
      },
      "execution_count": 29,
      "outputs": [
        {
          "output_type": "stream",
          "name": "stdout",
          "text": [
            "[493 102 941 749 874 411  35 940 882 190 312 903 816 927 990 236 133 543\n",
            " 491 958 289 979 410 365  46 532 553 921 759 422  69 389  99 777 304 852\n",
            " 986 570 341 176 628 595 519 242 824 820  98 248 963 698]\n",
            "a. First Ten Elements:\n",
            "[493 102 941 749 874 411  35 940 882 190]\n",
            "b. Last Ten Elements:\n",
            "[628 595 519 242 824 820  98 248 963 698]\n",
            "[312 903 816 927 990 236 133 543 491 958 289 979 410 365  46 532 553 921\n",
            " 759 422  69 389  99 777 304 852 986 570 341 176 628 595 519 242 824 820\n",
            "  98 248 963 698]\n",
            "c. Elements from Index 10 to 25:\n",
            "[312 903 816 927 990 236 133 543 491 958 289 979 410 365  46 532]\n",
            "d. Element at Index 22: 410\n",
            "e. Array Using Negative Indexing:\n",
            "[698 963 248  98 820 824 242 519 595 628 176 341 570 986 852 304 777  99\n",
            " 389  69 422 759 921 553 532  46 365 410 979 289 958 491 543 133 236 990\n",
            " 927 816 903 312 190 882 940  35 411 874 749 941 102 493]\n",
            "f. Last Ten Elements Using Negative Indexing:\n",
            "[628 595 519 242 824 820  98 248 963 698]\n"
          ]
        }
      ]
    },
    {
      "cell_type": "markdown",
      "source": [
        "10. Given a numpy array that has values = [1,2,3,4,5]. Perform the following operations.\n",
        "a. Insert the element 6 at the end of the array.\n",
        "b. Insert the element 10 at the beginning of the array.\n",
        "c. Insert the element 30, before 4.\n",
        "d. Update the element 5 as 50.\n",
        "e. Delete the element 50 in the updated array.\n",
        "f. Create a function to search for the element 30.\n",
        "g. Sort the array in ascending order"
      ],
      "metadata": {
        "id": "amm_O7LtGTfU"
      }
    },
    {
      "cell_type": "code",
      "source": [
        "import numpy as np\n",
        "\n",
        "# Given numpy array\n",
        "a = np.array([1, 2, 3, 4, 5])\n",
        "\n",
        "# a. Insert the element 6 at the end of the array\n",
        "a = np.append(a, 6)\n",
        "\n",
        "# b. Insert the element 10 at the beginning of the array\n",
        "a = np.insert(a, 0, 10)\n",
        "\n",
        "# c. Insert the element 30 before 4\n",
        "index_4 = np.where(a == 4)[0][0]\n",
        "a = np.insert(a, index_4, 30)\n",
        "\n",
        "# d. Update the element 5 as 50\n",
        "a[a == 5] = 50\n",
        "\n",
        "# e. Delete the element 50 in the updated array\n",
        "a = np.delete(a, np.where(a == 50))\n",
        "\n",
        "# f. Create a function to search for the element 30\n",
        "def search_element(array, target):\n",
        "    return np.where(array == target)[0][0] if target in array else -1\n",
        "\n",
        "# g. Sort the array in ascending order\n",
        "a_sorted = np.sort(a)\n",
        "\n",
        "# Printing the results\n",
        "print(\"Updated Array:\", a)\n",
        "print(\"Index of Element 30:\", search_element(a, 30))\n",
        "print(\"Sorted Array:\", a_sorted)\n"
      ],
      "metadata": {
        "colab": {
          "base_uri": "https://localhost:8080/"
        },
        "id": "C8WbxneIGZIb",
        "outputId": "979a4d23-504a-487f-9ccd-06cf6742a728"
      },
      "execution_count": 31,
      "outputs": [
        {
          "output_type": "stream",
          "name": "stdout",
          "text": [
            "Updated Array: [10  1  2  3 30  4  6]\n",
            "Index of Element 30: 4\n",
            "Sorted Array: [ 1  2  3  4  6 10 30]\n"
          ]
        }
      ]
    }
  ]
}