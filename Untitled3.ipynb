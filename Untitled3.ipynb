{
  "nbformat": 4,
  "nbformat_minor": 0,
  "metadata": {
    "colab": {
      "provenance": [],
      "authorship_tag": "ABX9TyOnaDJdI7FpBnA75Hlz7T3x",
      "include_colab_link": true
    },
    "kernelspec": {
      "name": "python3",
      "display_name": "Python 3"
    },
    "language_info": {
      "name": "python"
    }
  },
  "cells": [
    {
      "cell_type": "markdown",
      "metadata": {
        "id": "view-in-github",
        "colab_type": "text"
      },
      "source": [
        "<a href=\"https://colab.research.google.com/github/KatyayaniNallajerla/Python/blob/main/Untitled3.ipynb\" target=\"_parent\"><img src=\"https://colab.research.google.com/assets/colab-badge.svg\" alt=\"Open In Colab\"/></a>"
      ]
    },
    {
      "cell_type": "markdown",
      "source": [
        "User\n",
        "create a class named parent_class and inside class , initialize a global variable num as\n",
        "a.create another clas named child-class  and this class should be inherited from the parent class.\n",
        "b.now create an object of the child-class and with th help of child class object, display the value of the number"
      ],
      "metadata": {
        "id": "aIH6BM5ePhuB"
      }
    },
    {
      "cell_type": "markdown",
      "source": [],
      "metadata": {
        "id": "LGsaoYI_P4KG"
      }
    },
    {
      "cell_type": "code",
      "source": [
        "class ParentClass:\n",
        "    num = 10  # Initializing a global variable 'num' in the ParentClass\n",
        "\n",
        "class ChildClass(ParentClass):\n",
        "    pass  # The ChildClass inherits from the ParentClass\n",
        "\n",
        "# Creating an object of the ChildClass\n",
        "child_obj = ChildClass()\n",
        "\n",
        "# Displaying the value of 'num' using the child class object\n",
        "print(\"The value of num from the ChildClass:\", child_obj.num)\n"
      ],
      "metadata": {
        "colab": {
          "base_uri": "https://localhost:8080/"
        },
        "id": "AOtP7e1rPjh-",
        "outputId": "ae8ea660-fc3a-4853-8306-95ecd5597854"
      },
      "execution_count": 1,
      "outputs": [
        {
          "output_type": "stream",
          "name": "stdout",
          "text": [
            "The value of num from the ChildClass: 10\n"
          ]
        }
      ]
    },
    {
      "cell_type": "markdown",
      "source": [
        "Create three classes named A,B<c\n",
        "a.inside A class, create a constructor.indide the constructor, initialize 2 global variables -name and age\n",
        "b.after initializing the global variables inside the constructor, now create a function named 'details ' and that function should return the 'name' variable\n",
        "c.inside the B class , create a constructor.inside the constructor , initialize 2 global variables\n",
        "d.After initializing global variables inside the constructor, now create a function named 'details' and that function should return the 'name ' variable\n",
        "e.The class C should inherit from CLAss A , B and C .create a constructor and inside the constructor , call the constructor of class A\n",
        "f.Now create a method inside the class C as get_details, and this function should return the value of a name\n",
        "g.at last create an object of class c, and with the help of object, call the get_details()\n"
      ],
      "metadata": {
        "id": "r_28M89XdgLT"
      }
    },
    {
      "cell_type": "code",
      "source": [
        "class A:\n",
        "    def __init__(self, name, age):\n",
        "        self.name = name\n",
        "        self.age = age\n",
        "\n",
        "    def details(self):\n",
        "        return self.name\n",
        "\n",
        "\n",
        "class B:\n",
        "    def __init__(self, gender, address):\n",
        "        self.gender = gender\n",
        "        self.address = address\n",
        "\n",
        "    def details(self):\n",
        "        return self.address\n",
        "\n",
        "\n",
        "class C(A, B):\n",
        "    def __init__(self, name, age, gender, address):\n",
        "        # Calling the constructor of class A\n",
        "        A.__init__(self, name, age)\n",
        "        # Initializing variables from class B\n",
        "        self.gender = gender\n",
        "        self.address = address\n",
        "\n",
        "    def get_details(self):\n",
        "        return self.name\n",
        "\n",
        "\n",
        "# Creating an object of class C\n",
        "obj_c = C(name=\"John\", age=25, gender=\"Male\", address=\"123 Main St\")\n",
        "\n",
        "# Accessing details from class A through the object of class C\n",
        "print(\"Name from Class A:\", obj_c.details())\n",
        "\n",
        "# Accessing details from class B through the object of class C\n",
        "print(\"Address from Class B:\", obj_c.details())\n",
        "\n",
        "# Calling the get_details method from class C\n",
        "print(\"Name from get_details method in Class C:\", obj_c.get_details())\n"
      ],
      "metadata": {
        "id": "0DTlW4eHdgzF"
      },
      "execution_count": null,
      "outputs": []
    },
    {
      "cell_type": "code",
      "source": [
        "class A:\n",
        "  def __init__(self,name,age):\n",
        "    self.name=name\n",
        "    self.age=age\n",
        "  def details(self):\n",
        "      return self.name\n",
        "class B:\n",
        "  def __init__(self,name,id):\n",
        "    self.name=name\n",
        "    self.id=id\n",
        "  def details(self):\n",
        "      return self.name\n",
        "class C(A,B):\n",
        "  def __init__(self,name,age,id):\n",
        "    super().__init__(name,age)\n",
        "    self.id=id\n",
        "  def get_details(self):\n",
        "      return super().details()\n",
        "obj_C = C(name='Katy',age=32,id='1234')\n",
        "result= obj_C.get_details()\n",
        "print('Details of class C:',result)\n",
        "\n"
      ],
      "metadata": {
        "colab": {
          "base_uri": "https://localhost:8080/"
        },
        "id": "5EeFHVkTobsP",
        "outputId": "75f8ce08-d768-4e91-8ef0-bf4e27149aa8"
      },
      "execution_count": 13,
      "outputs": [
        {
          "output_type": "stream",
          "name": "stdout",
          "text": [
            "Details of class C: Katy\n"
          ]
        }
      ]
    },
    {
      "cell_type": "markdown",
      "source": [
        "create a class named employee, with a constructor '__init__' method that accepts name and salary as parameters and set properties named name and salary"
      ],
      "metadata": {
        "id": "qc5uxVDgu3H8"
      }
    },
    {
      "cell_type": "code",
      "source": [
        "class Employee:\n",
        "    def __init__(self, name, salary):\n",
        "        self.name = name\n",
        "        self.salary = salary\n",
        "\n",
        "# Creating an instance of the Employee class\n",
        "employee_instance = Employee(name=\"John Doe\", salary=50000)#employee instance is the employee object\n",
        "\n",
        "# Accessing properties of the Employee instance\n",
        "print(\"Employee Name:\", employee_instance.name)\n",
        "print(\"Employee Salary:\", employee_instance.salary)\n"
      ],
      "metadata": {
        "colab": {
          "base_uri": "https://localhost:8080/"
        },
        "id": "7-Fg0sowu-AJ",
        "outputId": "edf06e86-4a47-41bd-96eb-b8a526506606"
      },
      "execution_count": 14,
      "outputs": [
        {
          "output_type": "stream",
          "name": "stdout",
          "text": [
            "Employee Name: John Doe\n",
            "Employee Salary: 50000\n"
          ]
        }
      ]
    },
    {
      "cell_type": "markdown",
      "source": [
        "Define str method in employee class so that when someone tries to print the object the string name:employee_name,salary:employee_salary is printed with the actual employee name and salary"
      ],
      "metadata": {
        "id": "MvQciIPhyGOV"
      }
    },
    {
      "cell_type": "code",
      "source": [
        "class Employee:\n",
        "    def __init__(self, name, salary):\n",
        "        self.name = name\n",
        "        self.salary = salary\n",
        "\n",
        "    def __str__(self):\n",
        "        return f\"name: {self.name}, salary: {self.salary}\"\n",
        "\n",
        "# Creating an instance of the Employee class\n",
        "employee_instance = Employee(name=\"John Doe\", salary=50000)\n",
        "\n",
        "# Printing the object will now display the customized string representation\n",
        "print(employee_instance)\n"
      ],
      "metadata": {
        "colab": {
          "base_uri": "https://localhost:8080/"
        },
        "id": "qeNyW8pByGh7",
        "outputId": "7e55cba1-c77a-41fa-b67e-a7a8a21218fb"
      },
      "execution_count": 15,
      "outputs": [
        {
          "output_type": "stream",
          "name": "stdout",
          "text": [
            "name: John Doe, salary: 50000\n"
          ]
        }
      ]
    }
  ]
}